{
  "cells": [
    {
      "cell_type": "markdown",
      "id": "5077e5ff",
      "metadata": {},
      "source": [
        "## 협업 필터링"
      ]
    },
    {
      "cell_type": "code",
      "execution_count": 3,
      "id": "798edb07",
      "metadata": {
        "ExecuteTime": {
          "end_time": "2023-05-04T17:25:34.527185Z",
          "start_time": "2023-05-04T17:25:31.694309Z"
        },
        "id": "798edb07"
      },
      "outputs": [],
      "source": [
        "import pandas as pd\n",
        "import numpy as np\n",
        "from sklearn.metrics.pairwise import cosine_similarity\n",
        "from sklearn.model_selection import train_test_split\n",
        "from sklearn.metrics import precision_score, recall_score\n",
        "import requests\n",
        "import zipfile\n",
        "import os\n"
      ]
    },
    {
      "cell_type": "code",
      "execution_count": 4,
      "id": "rqV8UChaj_D5",
      "metadata": {
        "colab": {
          "base_uri": "https://localhost:8080/"
        },
        "id": "rqV8UChaj_D5",
        "outputId": "40ceea3b-e3be-42c7-ae26-bcfd8b83d7c6"
      },
      "outputs": [
        {
          "name": "stderr",
          "output_type": "stream",
          "text": [
            "C:\\Users\\user\\AppData\\Local\\Temp\\ipykernel_29812\\3189584552.py:7: DtypeWarning: Columns (4) have mixed types. Specify dtype option on import or set low_memory=False.\n",
            "  books = pd.read_csv(data_path+'03_BX-Books.csv', index_col=0)\n"
          ]
        }
      ],
      "source": [
        "# Download and unzip the dataset\n",
        "data_path = \"./data/\"\n",
        "\n",
        "# Load the data\n",
        "ratings = pd.read_csv(data_path+'01_BX-Book-Ratings.csv', index_col=0)\n",
        "users = pd.read_csv(data_path+'02_BX-Users.csv', index_col=0)\n",
        "books = pd.read_csv(data_path+'03_BX-Books.csv', index_col=0)"
      ]
    },
    {
      "cell_type": "code",
      "execution_count": 5,
      "id": "4d49ff92",
      "metadata": {
        "ExecuteTime": {
          "end_time": "2023-05-05T03:19:40.245647Z",
          "start_time": "2023-05-05T03:19:38.312206Z"
        },
        "id": "4d49ff92"
      },
      "outputs": [],
      "source": [
        "# Preprocess the data\n",
        "ratings = ratings.merge(books[['ISBN', 'Book-Title']], on='ISBN')\n",
        "ratings = ratings.drop(['ISBN'], axis=1)"
      ]
    },
    {
      "cell_type": "code",
      "execution_count": 6,
      "id": "c665e779",
      "metadata": {
        "ExecuteTime": {
          "end_time": "2023-05-04T17:25:55.687166Z",
          "start_time": "2023-05-04T17:25:34.529187Z"
        },
        "id": "c665e779"
      },
      "outputs": [],
      "source": [
        "# Filter books with at least min_book_ratings ratings\n",
        "min_book_ratings = 10\n",
        "book_rating_counts = ratings['Book-Title'].value_counts()\n",
        "filtered_books = book_rating_counts[book_rating_counts >= min_book_ratings].index\n",
        "ratings = ratings[ratings['Book-Title'].isin(filtered_books)]\n",
        "\n",
        "# Filter users who rated at least min_user_ratings books\n",
        "min_user_ratings = 5\n",
        "user_rating_counts = ratings['User-ID'].value_counts()\n",
        "filtered_users = user_rating_counts[user_rating_counts >= min_user_ratings].index\n",
        "ratings = ratings[ratings['User-ID'].isin(filtered_users)]\n",
        "\n",
        "# Create the user-item matrix\n",
        "user_item_matrix = ratings.pivot_table(index='User-ID', columns='Book-Title', values='Book-Rating').fillna(0)"
      ]
    },
    {
      "cell_type": "code",
      "execution_count": 7,
      "id": "29519456",
      "metadata": {
        "ExecuteTime": {
          "end_time": "2023-05-04T17:25:55.687166Z",
          "start_time": "2023-05-04T17:25:34.529187Z"
        },
        "id": "29519456"
      },
      "outputs": [],
      "source": [
        "# Compute the cosine similarity matrix\n",
        "cosine_sim_matrix = cosine_similarity(user_item_matrix)"
      ]
    },
    {
      "cell_type": "code",
      "execution_count": null,
      "id": "oPB79J6z0RHj",
      "metadata": {
        "id": "oPB79J6z0RHj"
      },
      "outputs": [],
      "source": []
    },
    {
      "cell_type": "code",
      "execution_count": 8,
      "id": "9ZRjtHcPz7u6",
      "metadata": {
        "id": "9ZRjtHcPz7u6"
      },
      "outputs": [],
      "source": [
        "# Split user indices into train and test sets\n",
        "user_indices = np.arange(user_item_matrix.shape[0])\n",
        "train_user_indices, test_user_indices = train_test_split(user_indices, test_size=0.2, random_state=42)"
      ]
    },
    {
      "cell_type": "code",
      "execution_count": 9,
      "id": "09fc9369",
      "metadata": {
        "ExecuteTime": {
          "end_time": "2023-05-04T17:26:29.538477Z",
          "start_time": "2023-05-04T17:26:29.527474Z"
        },
        "id": "09fc9369"
      },
      "outputs": [],
      "source": [
        "def collaborative_filtering_recommendation(user_index, k=10):\n",
        "    user_similarities = cosine_sim_matrix[user_index]\n",
        "    top_k_similar_users = np.argsort(user_similarities)[-k-1:-1][::-1]\n",
        "    similar_users_ratings = user_item_matrix.iloc[top_k_similar_users]\n",
        "    mean_ratings = similar_users_ratings.mean(axis=0)\n",
        "    top_k_books = mean_ratings.sort_values(ascending=False).head(k).index\n",
        "    return top_k_books"
      ]
    },
    {
      "cell_type": "code",
      "execution_count": 10,
      "id": "77b67715",
      "metadata": {
        "ExecuteTime": {
          "end_time": "2023-05-04T17:36:10.191469Z",
          "start_time": "2023-05-04T17:36:10.139458Z"
        },
        "colab": {
          "base_uri": "https://localhost:8080/"
        },
        "id": "77b67715",
        "outputId": "6d8f5ff6-5139-44d1-fe7f-cd421a8709bc"
      },
      "outputs": [
        {
          "name": "stdout",
          "output_type": "stream",
          "text": [
            "Random Score-Based Recommendations:\n",
            "1. Harry Potter y la piedra filosofal\n",
            "2. The original Hitchhiker radio scripts\n",
            "3. Mystery\n",
            "4. I Brake for Bad Boys\n",
            "5. Duane's Depressed\n",
            "6. Outer Banks\n",
            "7. Once Upon a Kiss\n",
            "8. If the Slipper Fits (Avon Romance)\n",
            "9. The Seventh Sense\n",
            "10. Burnt Bones\n"
          ]
        }
      ],
      "source": [
        "def random_recommendation(ratings, n=10):\n",
        "    unique_books = ratings['Book-Title'].unique()\n",
        "    random_books = np.random.choice(unique_books, size=n, replace=False)\n",
        "    return random_books\n",
        "\n",
        "random_books = random_recommendation(ratings, n=10)\n",
        "print(\"Random Score-Based Recommendations:\")\n",
        "for i, book in enumerate(random_books, 1):\n",
        "    print(f\"{i}. {book}\")"
      ]
    },
    {
      "cell_type": "code",
      "execution_count": 11,
      "id": "9dfe5e61",
      "metadata": {
        "ExecuteTime": {
          "end_time": "2023-05-04T17:36:07.595694Z",
          "start_time": "2023-05-04T17:36:07.534680Z"
        },
        "colab": {
          "base_uri": "https://localhost:8080/"
        },
        "id": "9dfe5e61",
        "outputId": "e2cb6967-c3ea-43ee-d07d-b8a389116c81",
        "scrolled": true
      },
      "outputs": [
        {
          "name": "stdout",
          "output_type": "stream",
          "text": [
            "\n",
            "Popularity-Based Recommendations:\n",
            "1. Wild Animus\n",
            "2. The Lovely Bones: A Novel\n",
            "3. The Da Vinci Code\n",
            "4. The Nanny Diaries: A Novel\n",
            "5. Bridget Jones's Diary\n",
            "6. A Painted House\n",
            "7. The Secret Life of Bees\n",
            "8. Divine Secrets of the Ya-Ya Sisterhood: A Novel\n",
            "9. Angels &amp; Demons\n",
            "10. Life of Pi\n"
          ]
        }
      ],
      "source": [
        "def popularity_recommendation(ratings, n=10):\n",
        "    popular_books = ratings.groupby('Book-Title')['Book-Rating'].count().sort_values(ascending=False).head(n).index\n",
        "    return popular_books\n",
        "\n",
        "popular_books = popularity_recommendation(ratings, n=10)\n",
        "print(\"\\nPopularity-Based Recommendations:\")\n",
        "for i, book in enumerate(popular_books, 1):\n",
        "    print(f\"{i}. {book}\")"
      ]
    },
    {
      "cell_type": "code",
      "execution_count": 12,
      "id": "62bf2511",
      "metadata": {
        "ExecuteTime": {
          "end_time": "2023-05-04T17:26:55.028091Z",
          "start_time": "2023-05-04T17:26:55.013088Z"
        },
        "id": "62bf2511"
      },
      "outputs": [],
      "source": [
        "def recommend_books(user_index, strategy, k=10):\n",
        "    if strategy == \"collaborative\":\n",
        "        top_k_books = collaborative_filtering_recommendation(user_index, k=k)\n",
        "    elif strategy == \"random\":\n",
        "        top_k_books = random_recommendation(ratings, n=k)\n",
        "    elif strategy == \"popularity\":\n",
        "        top_k_books = popularity_recommendation(ratings, n=k)\n",
        "    else:\n",
        "        raise ValueError(\"Invalid recommendation strategy\")\n",
        "    return top_k_books"
      ]
    },
    {
      "cell_type": "code",
      "execution_count": 13,
      "id": "d061aa22",
      "metadata": {
        "ExecuteTime": {
          "end_time": "2023-05-04T17:26:54.561948Z",
          "start_time": "2023-05-04T17:26:54.557956Z"
        },
        "id": "d061aa22"
      },
      "outputs": [],
      "source": [
        "def evaluate_model(strategy, k=10):\n",
        "    true_positive = 0\n",
        "    false_positive = 0\n",
        "    false_negative = 0\n",
        "\n",
        "    for user_index in test_user_indices:\n",
        "        true_books = set(user_item_matrix.iloc[user_index][user_item_matrix.iloc[user_index] > 0].index)\n",
        "        recommended_books = set(recommend_books(user_index, strategy, k))\n",
        "\n",
        "        tp = len(true_books.intersection(recommended_books))\n",
        "        fp = len(recommended_books - true_books)\n",
        "        fn = len(true_books - recommended_books)\n",
        "\n",
        "        true_positive += tp\n",
        "        false_positive += fp\n",
        "        false_negative += fn\n",
        "\n",
        "    precision = true_positive / (true_positive + false_positive)\n",
        "    recall = true_positive / (true_positive + false_negative)\n",
        "\n",
        "    return precision, recall\n"
      ]
    },
    {
      "cell_type": "code",
      "execution_count": 14,
      "id": "57ce8f10",
      "metadata": {
        "ExecuteTime": {
          "end_time": "2023-05-04T17:28:03.565087Z",
          "start_time": "2023-05-04T17:26:56.008464Z"
        },
        "colab": {
          "base_uri": "https://localhost:8080/"
        },
        "id": "57ce8f10",
        "outputId": "1a8c3dfe-47d2-4845-ce4a-3a58a6a7d783"
      },
      "outputs": [
        {
          "name": "stdout",
          "output_type": "stream",
          "text": [
            "Collaborative Filtering: Precision = 0.3110, Recall = 0.2601\n"
          ]
        }
      ],
      "source": [
        "# Evaluate the collaborative filtering model\n",
        "cf_precision, cf_recall = evaluate_model(strategy=\"collaborative\")\n",
        "print(f\"Collaborative Filtering: Precision = {cf_precision:.4f}, Recall = {cf_recall:.4f}\")"
      ]
    },
    {
      "cell_type": "code",
      "execution_count": 15,
      "id": "2408e8b0",
      "metadata": {
        "ExecuteTime": {
          "end_time": "2023-05-04T17:29:39.467214Z",
          "start_time": "2023-05-04T17:28:03.566088Z"
        },
        "colab": {
          "base_uri": "https://localhost:8080/"
        },
        "id": "2408e8b0",
        "outputId": "664e4c66-30ad-4d20-8fc3-d755c8d651d4"
      },
      "outputs": [
        {
          "name": "stdout",
          "output_type": "stream",
          "text": [
            "Random Score-Based: Precision = 0.0005, Recall = 0.0004\n"
          ]
        }
      ],
      "source": [
        "# Evaluate the random score-based recommendation model\n",
        "random_precision, random_recall = evaluate_model(strategy=\"random\")\n",
        "print(f\"Random Score-Based: Precision = {random_precision:.4f}, Recall = {random_recall:.4f}\")"
      ]
    },
    {
      "cell_type": "code",
      "execution_count": 16,
      "id": "019d11b0",
      "metadata": {
        "ExecuteTime": {
          "end_time": "2023-05-04T17:31:55.821151Z",
          "start_time": "2023-05-04T17:29:39.468214Z"
        },
        "colab": {
          "base_uri": "https://localhost:8080/"
        },
        "id": "019d11b0",
        "outputId": "adb5a629-e004-4524-c4fd-b3e5661dedbb"
      },
      "outputs": [
        {
          "name": "stdout",
          "output_type": "stream",
          "text": [
            "Popularity-Based: Precision = 0.0200, Recall = 0.0167\n"
          ]
        }
      ],
      "source": [
        "# Evaluate the popularity-based recommendation model\n",
        "popularity_precision, popularity_recall = evaluate_model(strategy=\"popularity\")\n",
        "print(f\"Popularity-Based: Precision = {popularity_precision:.4f}, Recall = {popularity_recall:.4f}\")"
      ]
    }
  ],
  "metadata": {
    "colab": {
      "provenance": []
    },
    "kernelspec": {
      "display_name": "Python 3",
      "language": "python",
      "name": "python3"
    },
    "language_info": {
      "codemirror_mode": {
        "name": "ipython",
        "version": 3
      },
      "file_extension": ".py",
      "mimetype": "text/x-python",
      "name": "python",
      "nbconvert_exporter": "python",
      "pygments_lexer": "ipython3",
      "version": "3.9.19"
    },
    "toc": {
      "base_numbering": 1,
      "nav_menu": {},
      "number_sections": true,
      "sideBar": true,
      "skip_h1_title": false,
      "title_cell": "Table of Contents",
      "title_sidebar": "Contents",
      "toc_cell": false,
      "toc_position": {},
      "toc_section_display": true,
      "toc_window_display": false
    }
  },
  "nbformat": 4,
  "nbformat_minor": 5
}
